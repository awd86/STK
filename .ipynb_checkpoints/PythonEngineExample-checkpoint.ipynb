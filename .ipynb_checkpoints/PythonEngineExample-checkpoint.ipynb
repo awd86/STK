{
 "cells": [
  {
   "cell_type": "markdown",
   "id": "23d671ca",
   "metadata": {},
   "source": [
    "# Sensor Intro Lab via Python"
   ]
  },
  {
   "cell_type": "markdown",
   "id": "203e8656",
   "metadata": {},
   "source": [
    "Help is here:\n",
    "- Plugins: https://github.com/AnalyticalGraphicsInc/STKCodeExamples/tree/master/StkExtensionPlugins\n",
    "- Snippets: https://help.agi.com/stkdevkit/11.4.0/Content/stkObjects/ObjModPythonCodeSamples.htm\n"
   ]
  },
  {
   "cell_type": "markdown",
   "id": "c59efb9f",
   "metadata": {},
   "source": [
    "## Imports and STK Initialization"
   ]
  },
  {
   "cell_type": "markdown",
   "id": "d8ca9fd4-a1d3-49ba-9237-f1a062f5e9a3",
   "metadata": {
    "jupyter": {
     "source_hidden": true
    },
    "tags": []
   },
   "source": [
    "Getting started is slightly more difficult that regular Python because the AGI library is <i>within</i> the STK GUI installation folder. You'll have to find the directory on your own, unfortunately. Here is how it looked for me:\n",
    "\n",
    "<b>Note 1:</b> This assumes that you have Python 3.6 or higher and \"pip\" installed. Google it if you need help with this portion - tons of help online.\n",
    "\n",
    "<b>Note 2:</b> The \"$\" implies that you are typing in the terminal window. You <i>should</i> also be in a virtual environment.\n",
    "\n",
    "1. Install Jupyter Lab<br>\n",
    "<td>&#36; pip install jupyterlab\n",
    "\n",
    "    \n",
    "2. Install the AGI wheel for STK. <i>Again, my directory path may be different than yours.</i><br>\n",
    "<td>&#36; pip install \"C:\\Program Files\\AGI\\STK 12\\bin\\AgPythonAPI\\agi.stk12-12.1.0-py3-none-any.whl\"<br>\n",
    "\n",
    "    \n",
    "Now you can launch Jupyter Lab and get to work!<br>\n",
    "\n",
    "To launch within your default browser, click on the url provided after typing:<br>\n",
    "$ jupyter lab<br>\n",
    "\n",
    "\n",
    "To launch as a <i>standalone</i> app within Chrome, it's slightly more work. You'll need the url from above, but first:<br>\n",
    " - <i>Windows</i> <br>\n",
    "    \"cd\" into the directory of chrome<br>\n",
    "    &#36; .\\chrome.exe --app=&lt;url from above&gt;<br>\n",
    "    \n",
    " - <i>Mac OS</i><br>\n",
    "&#36; Chrome --app=&lt;url from above&gt;<br>"
   ]
  },
  {
   "cell_type": "code",
   "execution_count": 4,
   "id": "c25cdfed",
   "metadata": {
    "jupyter": {
     "source_hidden": true
    },
    "tags": []
   },
   "outputs": [],
   "source": [
    "import time\n",
    "from agi.stk12.stkengine import STKEngine\n",
    "from agi.stk12.stkdesktop import STKDesktop\n",
    "from agi.stk12.stkobjects import *\n",
    "from agi.stk12.stkutil import *"
   ]
  },
  {
   "cell_type": "markdown",
   "id": "82f9f188",
   "metadata": {},
   "source": [
    "## STK Initialization"
   ]
  },
  {
   "cell_type": "markdown",
   "id": "4b1b2d79",
   "metadata": {},
   "source": [
    "Set some preferences"
   ]
  },
  {
   "cell_type": "code",
   "execution_count": null,
   "id": "52785f30",
   "metadata": {},
   "outputs": [],
   "source": [
    "ScenarioName = 'SensorIntroPython'\n",
    "StartTime    = '1 Jul 2016 16:00:00'  # as a string\n",
    "EndTime      = '+1 day'\n",
    "DateFormat   = 'UTCG'"
   ]
  },
  {
   "cell_type": "markdown",
   "id": "cc48bbcb",
   "metadata": {},
   "source": [
    "Next some \"under the hood\" setup routines that will launch STK GUI"
   ]
  },
  {
   "cell_type": "code",
   "execution_count": null,
   "id": "466d6881",
   "metadata": {
    "jupyter": {
     "source_hidden": true
    },
    "tags": []
   },
   "outputs": [],
   "source": [
    "\"\"\"\n",
    "SET TO TRUE TO USE ENGINE, FALSE TO USE GUI\n",
    "\"\"\"\n",
    "useStkEngine = False  # NPS does NOT have an STK.Engine license, must use GUI\n",
    "\n",
    "\n",
    "if (useStkEngine):\n",
    "    # Launch STK Engine with NoGraphics mode\n",
    "    print(\"Launching STK Engine...\")\n",
    "    stk = STKEngine.StartApplication(noGraphics=True)\n",
    "\n",
    "    # Create root object\n",
    "    stkRoot = stk.NewObjectRoot()\n",
    "\n",
    "else:\n",
    "    # Launch GUI\n",
    "    print(\"Launching STK...\")\n",
    "    stk = STKDesktop.StartApplication(visible=True, userControl=True)\n",
    "\n",
    "    # Get root object\n",
    "    stkRoot = stk.Root\n",
    "\n",
    "startTime = time.time()\n",
    "\n",
    "# Set date format\n",
    "stkRoot.UnitPreferences.SetCurrentUnit(\"DateFormat\", DateFormat)\n",
    "\n",
    "# Create new scenario\n",
    "print(\"Creating scenario...\")\n",
    "stkRoot.NewScenario(ScenarioName)\n",
    "scenario = stkRoot.CurrentScenario\n",
    "\n",
    "# Set time period\n",
    "scenario.SetTimePeriod(StartTime, EndTime)\n",
    "if (useStkEngine == False):\n",
    "    # Graphics calls are not available when running STK Engine in NoGraphics mode\n",
    "    stkRoot.Rewind()\n",
    "\n",
    "totalTime = time.time() - startTime\n",
    "splitTime = time.time()\n",
    "print(\"--- Scenario creation: {a:4.3f} sec\\t\\tTotal time: {b:4.3f} sec ---\".format(a=totalTime, b=totalTime))"
   ]
  },
  {
   "cell_type": "markdown",
   "id": "a124ab56",
   "metadata": {},
   "source": [
    "## Simple Access"
   ]
  },
  {
   "cell_type": "markdown",
   "id": "06b2efbc-2aa7-44e0-98cd-af5b1a27a164",
   "metadata": {},
   "source": [
    "Create a satellite with COE (Classical Orbital Elements)"
   ]
  },
  {
   "cell_type": "code",
   "execution_count": null,
   "id": "4c20aea1-c5b0-4a83-9706-4447132bc3ca",
   "metadata": {
    "jupyter": {
     "source_hidden": true
    },
    "tags": []
   },
   "outputs": [],
   "source": [
    "# Create satellite\n",
    "satellite = scenario.Children.New(AgESTKObjectType.eSatellite, \"MySatellite\")\n",
    "\n",
    "# Get propagator\n",
    "satellite.SetPropagatorType(AgEVePropagatorType.ePropagatorTwoBody)\n",
    "propagator = satellite.Propagator\n",
    "\n",
    "# Get orbit state\n",
    "orbitState = propagator.InitialState.Representation\n",
    "orbitStateClassical = orbitState.ConvertTo(AgEOrbitStateType.eOrbitStateClassical)\n",
    "\n",
    "# Set SMA and eccentricity\n",
    "orbitStateClassical.SizeShapeType = AgEClassicalSizeShape.eSizeShapeSemimajorAxis\n",
    "sizeShape = orbitStateClassical.SizeShape\n",
    "sizeShape.Eccentricity = 0\n",
    "sizeShape.SemiMajorAxis = 8000\n",
    "\n",
    "# Set inclination and argument of perigee\n",
    "orientation = orbitStateClassical.Orientation\n",
    "orientation.Inclination = 25\n",
    "orientation.ArgOfPerigee = 0\n",
    "\n",
    "# Set RAAN\n",
    "orientation.AscNodeType = AgEOrientationAscNode.eAscNodeRAAN\n",
    "raan = orientation.AscNode\n",
    "raan.Value = 0\n",
    "\n",
    "# Set true anomaly\n",
    "orbitStateClassical.LocationType = AgEClassicalLocation.eLocationTrueAnomaly\n",
    "trueAnomaly = orbitStateClassical.Location\n",
    "trueAnomaly.Value = 0\n",
    "\n",
    "# Assign orbit state and propagate satellite\n",
    "orbitState.Assign(orbitStateClassical)\n",
    "propagator.Propagate()"
   ]
  },
  {
   "cell_type": "markdown",
   "id": "66c3b8f2-d704-40d2-a58b-ad0125c8056a",
   "metadata": {},
   "source": [
    "Create a facility"
   ]
  },
  {
   "cell_type": "code",
   "execution_count": null,
   "id": "4c46c16c-da14-480e-8d09-d35e3cda8a2b",
   "metadata": {
    "jupyter": {
     "source_hidden": true
    },
    "tags": []
   },
   "outputs": [],
   "source": [
    "# Create faciliy\n",
    "facility = scenario.Children.New(AgESTKObjectType.eFacility, \"MyFacility\")\n",
    "\n",
    "# Set position\n",
    "facility.Position.AssignGeodetic(28.62, -80.62, 0.03)"
   ]
  },
  {
   "cell_type": "markdown",
   "id": "86946b8c-6308-42c9-b8bd-8f50d1b52a67",
   "metadata": {},
   "source": [
    "Compute access between satellite and facility"
   ]
  },
  {
   "cell_type": "code",
   "execution_count": null,
   "id": "a6e91735-b1f9-4c59-8295-aaa6ec684dc7",
   "metadata": {
    "jupyter": {
     "source_hidden": true
    },
    "tags": []
   },
   "outputs": [],
   "source": [
    "# Compute access between satellite and facility\n",
    "print(\"\\nComputing access...\")\n",
    "access = satellite.GetAccessToObject(facility)\n",
    "access.ComputeAccess()\n",
    "\n",
    "# Get access interval data\n",
    "stkRoot.UnitPreferences.SetCurrentUnit(\"Time\", \"Min\")\n",
    "accessDataProvider = access.DataProviders.GetDataPrvIntervalFromPath(\"Access Data\")\n",
    "elements = [\"Start Time\", \"Stop Time\", \"Duration\"]\n",
    "accessResults = accessDataProvider.ExecElements(scenario.StartTime, scenario.StopTime, elements)\n",
    "\n",
    "startTimes = accessResults.DataSets.GetDataSetByName(\"Start Time\").GetValues()\n",
    "stopTimes = accessResults.DataSets.GetDataSetByName(\"Stop Time\").GetValues()\n",
    "durations = accessResults.DataSets.GetDataSetByName(\"Duration\").GetValues()"
   ]
  },
  {
   "cell_type": "markdown",
   "id": "a6507817-ca76-49d5-8ea8-f848a114cccc",
   "metadata": {},
   "source": [
    "Output results to console"
   ]
  },
  {
   "cell_type": "code",
   "execution_count": null,
   "id": "f8647994-33c8-4aa0-aefd-705e586e8954",
   "metadata": {
    "tags": []
   },
   "outputs": [],
   "source": [
    "# Print data to console\n",
    "print(\"\\nAccess Intervals\")\n",
    "print(\"{a:<29s}  {b:<29s}  {c:<14s}\".format(a=\"Start Time\", b=\"Stop Time\", c=\"Duration (min)\"))\n",
    "for i in range(len(startTimes)):\n",
    "    print(\"{a:<29s}  {b:<29s}  {c:<4.2f}\".format(a=startTimes[i], b=stopTimes[i], c=durations[i]))\n",
    "\n",
    "print(\"\\nThe maximum access duration is {a:4.2f} minutes.\".format(a=max(durations)))\n",
    "\n",
    "# Print computation time\n",
    "totalTime = time.time() - startTime\n",
    "sectionTime = time.time() - splitTime\n",
    "splitTime = time.time()\n",
    "print(\"--- Access computation: {a:4.3f} sec\\t\\tTotal time: {b:4.3f} sec ---\".format(a=sectionTime, b=totalTime))"
   ]
  },
  {
   "cell_type": "markdown",
   "id": "a6d209ba-a323-4948-b649-53fff7183f00",
   "metadata": {},
   "source": [
    "## Create an Aircraft"
   ]
  },
  {
   "cell_type": "markdown",
   "id": "dff0afe8-dac4-4f95-bfa7-bddeab1ded62",
   "metadata": {},
   "source": [
    "https://help.agi.com/stkdevkit/11.4.0/Content/stkObjects/ObjModPythonCodeSamples.htm\n",
    "https://help.agi.com/stkdevkit/11.4.0/Content/stkObjects/ObjModPythonCodeSamples.htm#24"
   ]
  },
  {
   "cell_type": "markdown",
   "id": "f28b995f-7cb2-4b5c-ad4d-12267bef9300",
   "metadata": {},
   "source": [
    "Create a new aircraft named 'MyAircraft'"
   ]
  },
  {
   "cell_type": "code",
   "execution_count": null,
   "id": "e8e0918d-453a-4ac9-a22c-0f7d407ade0f",
   "metadata": {},
   "outputs": [],
   "source": [
    "# IAgStkObjectRoot root: STK Object Model root\n",
    "aircraft = root.CurrentScenario.Children.New(1, 'MyAircraft') # eAircraft"
   ]
  },
  {
   "cell_type": "markdown",
   "id": "a6bc3c20-b83b-4a4a-8652-9c4163e2e8a0",
   "metadata": {},
   "source": [
    "Great Arc Propogator"
   ]
  },
  {
   "cell_type": "code",
   "execution_count": null,
   "id": "a2f162c3-5bfc-46ae-9ca2-1913a891d60a",
   "metadata": {},
   "outputs": [],
   "source": [
    "# IAgAircraft aircraft: Aircraft object\n",
    "# Set route to great arc, method and altitude reference\n",
    "aircraft.SetRouteType(9) # ePropagatorGreatArc\n",
    "route = aircraft.Route\n",
    "route.Method = 0 # eDetermineTimeAccFromVel\n",
    "route.SetAltitudeRefType(0) # eWayPtAltRefMSL\n",
    "# Add first point\n",
    "waypoint = route.Waypoints.Add()\n",
    "waypoint.Latitude = 37.5378\n",
    "waypoint.Longitude = 14.2207\n",
    "waypoint.Altitude = 5  # km\n",
    "waypoint.Speed = .1    # km/sec\n",
    "# Add second point\n",
    "waypoint2 = route.Waypoints.Add()\n",
    "waypoint2.Latitude = 47.2602\n",
    "waypoint2.Longitude = 30.5517\n",
    "waypoint2.Altitude = 5  # km\n",
    "waypoint2.Speed = .1    # km/sec\n",
    "#Propagate the route\n",
    "route.Propagate()"
   ]
  },
  {
   "cell_type": "markdown",
   "id": "9b1556a2-ca21-4cd1-897b-20a2d15282f4",
   "metadata": {},
   "source": [
    "Set Altitude"
   ]
  },
  {
   "cell_type": "code",
   "execution_count": null,
   "id": "5db71fba-97c6-4a4e-bb8b-a1dfb7709b58",
   "metadata": {},
   "outputs": [],
   "source": [
    "# IAgAircraft aircraft: Aircraft object\n",
    "aircraft.Attitude.Basic.SetProfileType(24) # eCoordinatedTurn"
   ]
  },
  {
   "cell_type": "markdown",
   "id": "73c5abb8",
   "metadata": {},
   "source": [
    "## Constellation and Chains"
   ]
  },
  {
   "cell_type": "code",
   "execution_count": null,
   "id": "d02be7bd",
   "metadata": {},
   "outputs": [],
   "source": [
    "# Remove initial satellite\n",
    "satellite.Unload()\n",
    "\n",
    "# Create constellation object\n",
    "constellation = scenario.Children.New(AgESTKObjectType.eConstellation, \"SatConstellation\")\n",
    "\n",
    "# Insert the constellation of Satellites\n",
    "numOrbitPlanes = 4\n",
    "numSatsPerPlane = 8\n",
    "\n",
    "stkRoot.BeginUpdate()\n",
    "for orbitPlaneNum, RAAN in enumerate(range(0, 180, 180 // numOrbitPlanes), 1):  # RAAN in degrees\n",
    "\n",
    "    for satNum, trueAnomaly in enumerate(range(0, 360, 360 // numSatsPerPlane), 1):  # trueAnomaly in degrees\n",
    "\n",
    "        # Insert satellite\n",
    "        satellite = scenario.Children.New(AgESTKObjectType.eSatellite, f\"Sat{orbitPlaneNum}{satNum}\")\n",
    "\n",
    "        # Select Propagator\n",
    "        satellite.SetPropagatorType(AgEVePropagatorType.ePropagatorTwoBody)\n",
    "\n",
    "        # Set initial state\n",
    "        twoBodyPropagator = satellite.Propagator\n",
    "        keplarian = twoBodyPropagator.InitialState.Representation.ConvertTo(\n",
    "            AgEOrbitStateType.eOrbitStateClassical.eOrbitStateClassical)\n",
    "\n",
    "        keplarian.SizeShapeType = AgEClassicalSizeShape.eSizeShapeSemimajorAxis\n",
    "        keplarian.SizeShape.SemiMajorAxis = 8200  # km\n",
    "        keplarian.SizeShape.Eccentricity = 0\n",
    "\n",
    "        keplarian.Orientation.Inclination = 60  # degrees\n",
    "        keplarian.Orientation.ArgOfPerigee = 0  # degrees\n",
    "        keplarian.Orientation.AscNodeType = AgEOrientationAscNode.eAscNodeRAAN\n",
    "        keplarian.Orientation.AscNode.Value = RAAN  # degrees\n",
    "\n",
    "        keplarian.LocationType = AgEClassicalLocation.eLocationTrueAnomaly\n",
    "        keplarian.Location.Value = trueAnomaly + (360 // numSatsPerPlane / 2) * (\n",
    "                    orbitPlaneNum % 2)  # Stagger true anomalies (degrees) for every other orbital plane\n",
    "\n",
    "        # Propagate\n",
    "        satellite.Propagator.InitialState.Representation.Assign(keplarian)\n",
    "        satellite.Propagator.Propagate()\n",
    "\n",
    "        # Add to constellation object\n",
    "        constellation.Objects.AddObject(satellite)\n",
    "\n",
    "stkRoot.EndUpdate()\n",
    "# Create chain\n",
    "chain = scenario.Children.New(AgESTKObjectType.eChain, \"Chain\")\n",
    "\n",
    "# Add satellite constellation and facility\n",
    "chain.Objects.AddObject(constellation)\n",
    "chain.Objects.AddObject(facility)\n",
    "\n",
    "# Compute chain\n",
    "chain.ComputeAccess()\n",
    "\n",
    "# Find satellite with most access time\n",
    "chainDataProvider = chain.DataProviders.GetDataPrvIntervalFromPath(\"Object Access\")\n",
    "chainResults = chainDataProvider.Exec(scenario.StartTime, scenario.StopTime)\n",
    "\n",
    "objectList = []\n",
    "durationList = []\n",
    "\n",
    "# Loop through all satellite access intervals\n",
    "for intervalNum in range(chainResults.Intervals.Count - 1):\n",
    "    # Get interval\n",
    "    interval = chainResults.Intervals[intervalNum]\n",
    "\n",
    "    # Get data for interval\n",
    "    objectName = interval.DataSets.GetDataSetByName(\"Strand Name\").GetValues()[0]\n",
    "    durations = interval.DataSets.GetDataSetByName(\"Duration\").GetValues()\n",
    "\n",
    "    # Add data to list\n",
    "    objectList.append(objectName)\n",
    "    durationList.append(sum(durations))\n",
    "\n",
    "# Find object with longest total duration\n",
    "index = durationList.index(max(durationList))\n",
    "print(\"\\n{a:s} has the longest total duration: {b:4.2f} minutes.\".format(a=objectList[index], b=durationList[index]))\n",
    "\n",
    "# Print computation time\n",
    "totalTime = time.time() - startTime\n",
    "sectionTime = time.time() - splitTime\n",
    "splitTime = time.time()\n",
    "print(\"--- Chain computation: {a:4.2f} sec\\t\\tTotal time: {b:4.2f} sec ---\".format(a=sectionTime, b=totalTime))"
   ]
  },
  {
   "cell_type": "markdown",
   "id": "1fccfbca",
   "metadata": {},
   "source": [
    "## Coverage"
   ]
  },
  {
   "cell_type": "markdown",
   "id": "43fe415f-7a35-4077-875a-5527d041820a",
   "metadata": {},
   "source": [
    "Load United States borders as bounds"
   ]
  },
  {
   "cell_type": "code",
   "execution_count": 1,
   "id": "f5128234-0184-4d76-8c89-64e5c6df8c85",
   "metadata": {},
   "outputs": [],
   "source": [
    "# Add US shapefile to bounds\n",
    "bounds = coverageDefinition.Grid.Bounds\n",
    "bounds.RegionFiles.Add(\n",
    "    r'C:\\Program Files\\AGI\\STK 12\\Data\\Shapefiles\\Countries\\United_States_of_America\\United_States_of_America.shp')"
   ]
  },
  {
   "cell_type": "markdown",
   "id": "b7c3a3c3-0f5d-46e8-8efe-fd7ed5ecebab",
   "metadata": {},
   "source": [
    "Create a coverage definition"
   ]
  },
  {
   "cell_type": "code",
   "execution_count": 1,
   "id": "355d9a91-0efd-42ee-bbb6-56f180b109b8",
   "metadata": {},
   "outputs": [],
   "source": [
    "# Create coverage definition\n",
    "coverageDefinition = scenario.Children.New(AgESTKObjectType.eCoverageDefinition, \"CoverageDefinition\")\n",
    "\n",
    "# Set grid bounds type\n",
    "grid = coverageDefinition.Grid\n",
    "grid.BoundsType = AgECvBounds.eBoundsCustomRegions\n",
    "\n",
    "# Set resolution\n",
    "grid.ResolutionType = AgECvResolution.eResolutionDistance\n",
    "resolution = grid.Resolution\n",
    "resolution.Distance = 75\n",
    "\n",
    "# Add constellation as asset\n",
    "coverageDefinition.AssetList.Add(\"Constellation/SatConstellation\")\n",
    "coverageDefinition.ComputeAccesses()\n",
    "\n",
    "# Create figure of merit\n",
    "figureOfMerit = coverageDefinition.Children.New(AgESTKObjectType.eFigureOfMerit, \"FigureOfMerit\")\n",
    "\n",
    "# Set the definition and compute type\n",
    "figureOfMerit.SetDefinitionType(AgEFmDefinitionType.eFmAccessDuration)\n",
    "definition = figureOfMerit.Definition\n",
    "definition.SetComputeType(AgEFmCompute.eAverage)\n",
    "\n",
    "fomDataProvider = figureOfMerit.DataProviders.GetDataPrvFixedFromPath(\"Overall Value\")\n",
    "fomResults = fomDataProvider.Exec()\n",
    "\n",
    "minAccessDuration = fomResults.DataSets.GetDataSetByName(\"Minimum\").GetValues()[0]\n",
    "maxAccessDuration = fomResults.DataSets.GetDataSetByName(\"Maximum\").GetValues()[0]\n",
    "avgAccessDuration = fomResults.DataSets.GetDataSetByName(\"Average\").GetValues()[0]\n",
    "\n",
    "# Computation time\n",
    "totalTime = time.time() - startTime\n",
    "sectionTime = time.time() - splitTime"
   ]
  },
  {
   "cell_type": "markdown",
   "id": "29f1c925-b09f-425d-abaa-e40774345dab",
   "metadata": {},
   "source": [
    "Output the results"
   ]
  },
  {
   "cell_type": "code",
   "execution_count": 1,
   "id": "f4f8f56e-c03b-4cec-9be6-b4b46068a557",
   "metadata": {
    "jupyter": {
     "source_hidden": true
    },
    "tags": []
   },
   "outputs": [],
   "source": [
    "# Print data to console\n",
    "print(\"\\nThe minimum coverage duration is {a:4.2f} min.\".format(a=minAccessDuration))\n",
    "print(\"The maximum coverage duration is {a:4.2f} min.\".format(a=maxAccessDuration))\n",
    "print(\"The average coverage duration is {a:4.2f} min.\".format(a=avgAccessDuration))\n",
    "print(\"--- Coverage computation: {a:0.3f} sec\\t\\tTotal time: {b:0.3f} sec ---\".format(a=sectionTime, b=totalTime))"
   ]
  },
  {
   "cell_type": "markdown",
   "id": "f527b04a-e1f8-4e17-8da7-55ee396e316f",
   "metadata": {},
   "source": [
    "## Shutdown STK"
   ]
  },
  {
   "cell_type": "code",
   "execution_count": 1,
   "id": "4c8e04da-8981-4a2a-810d-4682d45730ac",
   "metadata": {
    "jupyter": {
     "source_hidden": true
    },
    "tags": []
   },
   "outputs": [
    {
     "name": "stdout",
     "output_type": "stream",
     "text": [
      "Launching STK...\n",
      "Creating scenario...\n",
      "--- Scenario creation: 28.590 sec\t\tTotal time: 28.590 sec ---\n",
      "\n",
      "Computing access...\n",
      "\n",
      "Access Intervals\n",
      "Start Time                     Stop Time                      Duration (min)\n",
      "1 Aug 2020 16:25:03.475805471  1 Aug 2020 16:51:07.039122748  26.06\n",
      "1 Aug 2020 18:33:25.466968886  1 Aug 2020 18:57:49.382137951  24.40\n",
      "1 Aug 2020 20:43:39.293864326  1 Aug 2020 21:02:22.893523410  18.73\n",
      "2 Aug 2020 07:42:48.464808426  2 Aug 2020 07:58:38.079188634  15.83\n",
      "2 Aug 2020 09:46:27.097228997  2 Aug 2020 10:09:58.224122543  23.52\n",
      "2 Aug 2020 11:52:44.502496129  2 Aug 2020 12:18:34.702365310  25.84\n",
      "2 Aug 2020 14:00:19.322304861  2 Aug 2020 14:26:38.819331949  26.32\n",
      "\n",
      "The maximum access duration is 26.32 minutes.\n",
      "--- Access computation: 2.046 sec\t\tTotal time: 30.636 sec ---\n",
      "\n",
      "Sat36 has the longest total duration: 187.20 minutes.\n",
      "--- Chain computation: 9.09 sec\t\tTotal time: 39.72 sec ---\n",
      "\n",
      "The minimum coverage duration is 20.91 min.\n",
      "The maximum coverage duration is 24.43 min.\n",
      "The average coverage duration is 23.65 min.\n",
      "--- Coverage computation: 24.321 sec\t\tTotal time: 64.043 sec ---\n",
      "\n",
      "Closed STK successfully.\n"
     ]
    }
   ],
   "source": [
    "stkRoot.CloseScenario()\n",
    "stk.ShutDown()\n",
    "\n",
    "print(\"\\nClosed STK successfully.\")"
   ]
  }
 ],
 "metadata": {
  "kernelspec": {
   "display_name": "Python 3 (ipykernel)",
   "language": "python",
   "name": "python3"
  },
  "language_info": {
   "codemirror_mode": {
    "name": "ipython",
    "version": 3
   },
   "file_extension": ".py",
   "mimetype": "text/x-python",
   "name": "python",
   "nbconvert_exporter": "python",
   "pygments_lexer": "ipython3",
   "version": "3.9.12"
  }
 },
 "nbformat": 4,
 "nbformat_minor": 5
}
